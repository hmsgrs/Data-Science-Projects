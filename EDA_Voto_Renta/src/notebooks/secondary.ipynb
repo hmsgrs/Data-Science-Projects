{
 "cells": [
  {
   "cell_type": "code",
   "execution_count": 2,
   "metadata": {},
   "outputs": [],
   "source": [
    "import seaborn as sns\n",
    "import pandas as pd\n",
    "import numpy as np\n",
    "import matplotlib.pyplot as plt\n",
    "import scipy as sp"
   ]
  },
  {
   "cell_type": "code",
   "execution_count": 75,
   "metadata": {},
   "outputs": [],
   "source": [
    "df_19 = pd.read_csv('..\\\\..\\\\raw data\\\\df_19.csv')"
   ]
  },
  {
   "cell_type": "code",
   "execution_count": 76,
   "metadata": {},
   "outputs": [],
   "source": [
    "df_16 = pd.read_csv('..\\\\..\\\\raw data\\\\df_16.csv')"
   ]
  },
  {
   "cell_type": "code",
   "execution_count": 5,
   "metadata": {},
   "outputs": [
    {
     "data": {
      "text/html": [
       "<div>\n",
       "<style scoped>\n",
       "    .dataframe tbody tr th:only-of-type {\n",
       "        vertical-align: middle;\n",
       "    }\n",
       "\n",
       "    .dataframe tbody tr th {\n",
       "        vertical-align: top;\n",
       "    }\n",
       "\n",
       "    .dataframe thead th {\n",
       "        text-align: right;\n",
       "    }\n",
       "</style>\n",
       "<table border=\"1\" class=\"dataframe\">\n",
       "  <thead>\n",
       "    <tr style=\"text-align: right;\">\n",
       "      <th></th>\n",
       "      <th>Nombre Sección</th>\n",
       "      <th>Sección</th>\n",
       "      <th>Total</th>\n",
       "      <th>censo</th>\n",
       "      <th>votos_total</th>\n",
       "      <th>Participación</th>\n",
       "    </tr>\n",
       "  </thead>\n",
       "  <tbody>\n",
       "    <tr>\n",
       "      <th>0</th>\n",
       "      <td>Abaltzisketa sección 01001</td>\n",
       "      <td>101001</td>\n",
       "      <td>17166.0</td>\n",
       "      <td>253.0</td>\n",
       "      <td>163.0</td>\n",
       "      <td>0.644269</td>\n",
       "    </tr>\n",
       "    <tr>\n",
       "      <th>1</th>\n",
       "      <td>Aduna sección 01001</td>\n",
       "      <td>201001</td>\n",
       "      <td>16825.0</td>\n",
       "      <td>359.0</td>\n",
       "      <td>234.0</td>\n",
       "      <td>0.651811</td>\n",
       "    </tr>\n",
       "    <tr>\n",
       "      <th>2</th>\n",
       "      <td>Aizarnazabal sección 01001</td>\n",
       "      <td>301001</td>\n",
       "      <td>14763.0</td>\n",
       "      <td>549.0</td>\n",
       "      <td>360.0</td>\n",
       "      <td>0.655738</td>\n",
       "    </tr>\n",
       "    <tr>\n",
       "      <th>3</th>\n",
       "      <td>Albiztur sección 01001</td>\n",
       "      <td>401001</td>\n",
       "      <td>16659.0</td>\n",
       "      <td>230.0</td>\n",
       "      <td>133.0</td>\n",
       "      <td>0.578261</td>\n",
       "    </tr>\n",
       "    <tr>\n",
       "      <th>4</th>\n",
       "      <td>Alegia sección 01001</td>\n",
       "      <td>501001</td>\n",
       "      <td>14319.0</td>\n",
       "      <td>1274.0</td>\n",
       "      <td>822.0</td>\n",
       "      <td>0.645212</td>\n",
       "    </tr>\n",
       "  </tbody>\n",
       "</table>\n",
       "</div>"
      ],
      "text/plain": [
       "               Nombre Sección  Sección    Total   censo  votos_total  \\\n",
       "0  Abaltzisketa sección 01001   101001  17166.0   253.0        163.0   \n",
       "1         Aduna sección 01001   201001  16825.0   359.0        234.0   \n",
       "2  Aizarnazabal sección 01001   301001  14763.0   549.0        360.0   \n",
       "3      Albiztur sección 01001   401001  16659.0   230.0        133.0   \n",
       "4        Alegia sección 01001   501001  14319.0  1274.0        822.0   \n",
       "\n",
       "   Participación  \n",
       "0       0.644269  \n",
       "1       0.651811  \n",
       "2       0.655738  \n",
       "3       0.578261  \n",
       "4       0.645212  "
      ]
     },
     "execution_count": 5,
     "metadata": {},
     "output_type": "execute_result"
    }
   ],
   "source": [
    "df_19.head()"
   ]
  },
  {
   "cell_type": "code",
   "execution_count": 6,
   "metadata": {},
   "outputs": [
    {
     "data": {
      "text/html": [
       "<div>\n",
       "<style scoped>\n",
       "    .dataframe tbody tr th:only-of-type {\n",
       "        vertical-align: middle;\n",
       "    }\n",
       "\n",
       "    .dataframe tbody tr th {\n",
       "        vertical-align: top;\n",
       "    }\n",
       "\n",
       "    .dataframe thead th {\n",
       "        text-align: right;\n",
       "    }\n",
       "</style>\n",
       "<table border=\"1\" class=\"dataframe\">\n",
       "  <thead>\n",
       "    <tr style=\"text-align: right;\">\n",
       "      <th></th>\n",
       "      <th>Nombre Sección</th>\n",
       "      <th>Sección</th>\n",
       "      <th>Total</th>\n",
       "      <th>censo</th>\n",
       "      <th>votos_total</th>\n",
       "      <th>Participación</th>\n",
       "    </tr>\n",
       "  </thead>\n",
       "  <tbody>\n",
       "    <tr>\n",
       "      <th>0</th>\n",
       "      <td>Abaltzisketa sección 01001</td>\n",
       "      <td>101001</td>\n",
       "      <td>14209.0</td>\n",
       "      <td>246.0</td>\n",
       "      <td>133.0</td>\n",
       "      <td>0.540650</td>\n",
       "    </tr>\n",
       "    <tr>\n",
       "      <th>1</th>\n",
       "      <td>Aduna sección 01001</td>\n",
       "      <td>201001</td>\n",
       "      <td>15485.0</td>\n",
       "      <td>346.0</td>\n",
       "      <td>203.0</td>\n",
       "      <td>0.586705</td>\n",
       "    </tr>\n",
       "    <tr>\n",
       "      <th>2</th>\n",
       "      <td>Aizarnazabal sección 01001</td>\n",
       "      <td>301001</td>\n",
       "      <td>12996.0</td>\n",
       "      <td>547.0</td>\n",
       "      <td>308.0</td>\n",
       "      <td>0.563071</td>\n",
       "    </tr>\n",
       "    <tr>\n",
       "      <th>3</th>\n",
       "      <td>Albiztur sección 01001</td>\n",
       "      <td>401001</td>\n",
       "      <td>16226.0</td>\n",
       "      <td>252.0</td>\n",
       "      <td>121.0</td>\n",
       "      <td>0.480159</td>\n",
       "    </tr>\n",
       "    <tr>\n",
       "      <th>4</th>\n",
       "      <td>Alegia sección 01001</td>\n",
       "      <td>501001</td>\n",
       "      <td>12678.0</td>\n",
       "      <td>1260.0</td>\n",
       "      <td>738.0</td>\n",
       "      <td>0.585714</td>\n",
       "    </tr>\n",
       "  </tbody>\n",
       "</table>\n",
       "</div>"
      ],
      "text/plain": [
       "               Nombre Sección  Sección    Total   censo  votos_total  \\\n",
       "0  Abaltzisketa sección 01001   101001  14209.0   246.0        133.0   \n",
       "1         Aduna sección 01001   201001  15485.0   346.0        203.0   \n",
       "2  Aizarnazabal sección 01001   301001  12996.0   547.0        308.0   \n",
       "3      Albiztur sección 01001   401001  16226.0   252.0        121.0   \n",
       "4        Alegia sección 01001   501001  12678.0  1260.0        738.0   \n",
       "\n",
       "   Participación  \n",
       "0       0.540650  \n",
       "1       0.586705  \n",
       "2       0.563071  \n",
       "3       0.480159  \n",
       "4       0.585714  "
      ]
     },
     "execution_count": 6,
     "metadata": {},
     "output_type": "execute_result"
    }
   ],
   "source": [
    "df_16.head()"
   ]
  },
  {
   "cell_type": "code",
   "execution_count": 77,
   "metadata": {},
   "outputs": [],
   "source": [
    "df_19['desviación renta 19'] = df_19['Total'] - df_19['Total'].mean()"
   ]
  },
  {
   "cell_type": "code",
   "execution_count": 78,
   "metadata": {},
   "outputs": [],
   "source": [
    "df_16['desviación renta 16'] = df_16['Total'] - df_16['Total'].mean()"
   ]
  },
  {
   "cell_type": "code",
   "execution_count": 79,
   "metadata": {},
   "outputs": [],
   "source": [
    "df_16['cambio renta 16-19']= df_19['desviación renta 19'] - df_16['desviación renta 16']"
   ]
  },
  {
   "cell_type": "code",
   "execution_count": 80,
   "metadata": {},
   "outputs": [],
   "source": [
    "df_19['desviación participación 19'] = df_19['Participación'] - df_19['Participación'].mean()\n",
    "df_16['desviación participación 16'] = df_16['Participación'] - df_16['Participación'].mean()"
   ]
  },
  {
   "cell_type": "code",
   "execution_count": 81,
   "metadata": {},
   "outputs": [],
   "source": [
    "df_16['cambio voto 16-19']= df_19['desviación participación 19'] - df_16['desviación participación 16']"
   ]
  },
  {
   "cell_type": "code",
   "execution_count": 69,
   "metadata": {},
   "outputs": [
    {
     "data": {
      "text/html": [
       "<div>\n",
       "<style scoped>\n",
       "    .dataframe tbody tr th:only-of-type {\n",
       "        vertical-align: middle;\n",
       "    }\n",
       "\n",
       "    .dataframe tbody tr th {\n",
       "        vertical-align: top;\n",
       "    }\n",
       "\n",
       "    .dataframe thead th {\n",
       "        text-align: right;\n",
       "    }\n",
       "</style>\n",
       "<table border=\"1\" class=\"dataframe\">\n",
       "  <thead>\n",
       "    <tr style=\"text-align: right;\">\n",
       "      <th></th>\n",
       "      <th>Nombre Sección</th>\n",
       "      <th>Sección</th>\n",
       "      <th>Total</th>\n",
       "      <th>censo</th>\n",
       "      <th>votos_total</th>\n",
       "      <th>Participación</th>\n",
       "      <th>desviación renta 16</th>\n",
       "      <th>cambio renta 16-19</th>\n",
       "      <th>desviación participación 16</th>\n",
       "      <th>cambio voto 16-19</th>\n",
       "    </tr>\n",
       "  </thead>\n",
       "  <tbody>\n",
       "    <tr>\n",
       "      <th>0</th>\n",
       "      <td>Abaltzisketa sección 01001</td>\n",
       "      <td>101001</td>\n",
       "      <td>14209.0</td>\n",
       "      <td>246.0</td>\n",
       "      <td>133.0</td>\n",
       "      <td>0.540650</td>\n",
       "      <td>-854.73211</td>\n",
       "      <td>1614.343119</td>\n",
       "      <td>-542.485294</td>\n",
       "      <td>-0.103697</td>\n",
       "    </tr>\n",
       "    <tr>\n",
       "      <th>1</th>\n",
       "      <td>Aduna sección 01001</td>\n",
       "      <td>201001</td>\n",
       "      <td>15485.0</td>\n",
       "      <td>346.0</td>\n",
       "      <td>203.0</td>\n",
       "      <td>0.586705</td>\n",
       "      <td>421.26789</td>\n",
       "      <td>-2.656881</td>\n",
       "      <td>-472.485294</td>\n",
       "      <td>0.896303</td>\n",
       "    </tr>\n",
       "    <tr>\n",
       "      <th>2</th>\n",
       "      <td>Aizarnazabal sección 01001</td>\n",
       "      <td>301001</td>\n",
       "      <td>12996.0</td>\n",
       "      <td>547.0</td>\n",
       "      <td>308.0</td>\n",
       "      <td>0.563071</td>\n",
       "      <td>-2067.73211</td>\n",
       "      <td>424.343119</td>\n",
       "      <td>-367.485294</td>\n",
       "      <td>21.896303</td>\n",
       "    </tr>\n",
       "    <tr>\n",
       "      <th>3</th>\n",
       "      <td>Albiztur sección 01001</td>\n",
       "      <td>401001</td>\n",
       "      <td>16226.0</td>\n",
       "      <td>252.0</td>\n",
       "      <td>121.0</td>\n",
       "      <td>0.480159</td>\n",
       "      <td>1162.26789</td>\n",
       "      <td>-909.656881</td>\n",
       "      <td>-554.485294</td>\n",
       "      <td>-18.103697</td>\n",
       "    </tr>\n",
       "    <tr>\n",
       "      <th>4</th>\n",
       "      <td>Alegia sección 01001</td>\n",
       "      <td>501001</td>\n",
       "      <td>12678.0</td>\n",
       "      <td>1260.0</td>\n",
       "      <td>738.0</td>\n",
       "      <td>0.585714</td>\n",
       "      <td>-2385.73211</td>\n",
       "      <td>298.343119</td>\n",
       "      <td>62.514706</td>\n",
       "      <td>53.896303</td>\n",
       "    </tr>\n",
       "  </tbody>\n",
       "</table>\n",
       "</div>"
      ],
      "text/plain": [
       "               Nombre Sección  Sección    Total   censo  votos_total  \\\n",
       "0  Abaltzisketa sección 01001   101001  14209.0   246.0        133.0   \n",
       "1         Aduna sección 01001   201001  15485.0   346.0        203.0   \n",
       "2  Aizarnazabal sección 01001   301001  12996.0   547.0        308.0   \n",
       "3      Albiztur sección 01001   401001  16226.0   252.0        121.0   \n",
       "4        Alegia sección 01001   501001  12678.0  1260.0        738.0   \n",
       "\n",
       "   Participación  desviación renta 16  cambio renta 16-19  \\\n",
       "0       0.540650           -854.73211         1614.343119   \n",
       "1       0.586705            421.26789           -2.656881   \n",
       "2       0.563071          -2067.73211          424.343119   \n",
       "3       0.480159           1162.26789         -909.656881   \n",
       "4       0.585714          -2385.73211          298.343119   \n",
       "\n",
       "   desviación participación 16  cambio voto 16-19  \n",
       "0                  -542.485294          -0.103697  \n",
       "1                  -472.485294           0.896303  \n",
       "2                  -367.485294          21.896303  \n",
       "3                  -554.485294         -18.103697  \n",
       "4                    62.514706          53.896303  "
      ]
     },
     "execution_count": 69,
     "metadata": {},
     "output_type": "execute_result"
    }
   ],
   "source": [
    "df_16.head()"
   ]
  },
  {
   "cell_type": "code",
   "execution_count": 70,
   "metadata": {},
   "outputs": [],
   "source": [
    "df_16_sort_r = df_16.sort_values(by='cambio renta 16-19')"
   ]
  },
  {
   "cell_type": "code",
   "execution_count": 71,
   "metadata": {},
   "outputs": [],
   "source": [
    "df_16_sort_v = df_16.sort_values(by='cambio voto 16-19')"
   ]
  },
  {
   "cell_type": "code",
   "execution_count": 73,
   "metadata": {},
   "outputs": [
    {
     "data": {
      "text/html": [
       "<div>\n",
       "<style scoped>\n",
       "    .dataframe tbody tr th:only-of-type {\n",
       "        vertical-align: middle;\n",
       "    }\n",
       "\n",
       "    .dataframe tbody tr th {\n",
       "        vertical-align: top;\n",
       "    }\n",
       "\n",
       "    .dataframe thead th {\n",
       "        text-align: right;\n",
       "    }\n",
       "</style>\n",
       "<table border=\"1\" class=\"dataframe\">\n",
       "  <thead>\n",
       "    <tr style=\"text-align: right;\">\n",
       "      <th></th>\n",
       "      <th>Nombre Sección</th>\n",
       "      <th>Sección</th>\n",
       "      <th>Total</th>\n",
       "      <th>censo</th>\n",
       "      <th>votos_total</th>\n",
       "      <th>Participación</th>\n",
       "      <th>desviación renta 16</th>\n",
       "      <th>cambio renta 16-19</th>\n",
       "      <th>desviación participación 16</th>\n",
       "      <th>cambio voto 16-19</th>\n",
       "    </tr>\n",
       "  </thead>\n",
       "  <tbody>\n",
       "    <tr>\n",
       "      <th>345</th>\n",
       "      <td>Donostia/San Sebastián sección 03032</td>\n",
       "      <td>6903032</td>\n",
       "      <td>17414.0</td>\n",
       "      <td>1379.0</td>\n",
       "      <td>1024.0</td>\n",
       "      <td>0.742567</td>\n",
       "      <td>2350.26789</td>\n",
       "      <td>2060.343119</td>\n",
       "      <td>348.514706</td>\n",
       "      <td>-520.103697</td>\n",
       "    </tr>\n",
       "    <tr>\n",
       "      <th>344</th>\n",
       "      <td>Donostia/San Sebastián sección 03031</td>\n",
       "      <td>6903031</td>\n",
       "      <td>18005.0</td>\n",
       "      <td>1805.0</td>\n",
       "      <td>1265.0</td>\n",
       "      <td>0.700831</td>\n",
       "      <td>2941.26789</td>\n",
       "      <td>1488.343119</td>\n",
       "      <td>589.514706</td>\n",
       "      <td>-292.103697</td>\n",
       "    </tr>\n",
       "    <tr>\n",
       "      <th>294</th>\n",
       "      <td>Errenteria sección 01029</td>\n",
       "      <td>6701029</td>\n",
       "      <td>11674.0</td>\n",
       "      <td>1393.0</td>\n",
       "      <td>911.0</td>\n",
       "      <td>0.653984</td>\n",
       "      <td>-3389.73211</td>\n",
       "      <td>41.343119</td>\n",
       "      <td>235.514706</td>\n",
       "      <td>-129.103697</td>\n",
       "    </tr>\n",
       "    <tr>\n",
       "      <th>292</th>\n",
       "      <td>Errenteria sección 01027</td>\n",
       "      <td>6701027</td>\n",
       "      <td>11498.0</td>\n",
       "      <td>1361.0</td>\n",
       "      <td>908.0</td>\n",
       "      <td>0.667157</td>\n",
       "      <td>-3565.73211</td>\n",
       "      <td>-204.656881</td>\n",
       "      <td>232.514706</td>\n",
       "      <td>-101.103697</td>\n",
       "    </tr>\n",
       "    <tr>\n",
       "      <th>413</th>\n",
       "      <td>Donostia/San Sebastián sección 07002</td>\n",
       "      <td>6907002</td>\n",
       "      <td>12908.0</td>\n",
       "      <td>1358.0</td>\n",
       "      <td>920.0</td>\n",
       "      <td>0.677467</td>\n",
       "      <td>-2155.73211</td>\n",
       "      <td>25.343119</td>\n",
       "      <td>244.514706</td>\n",
       "      <td>-99.103697</td>\n",
       "    </tr>\n",
       "    <tr>\n",
       "      <th>...</th>\n",
       "      <td>...</td>\n",
       "      <td>...</td>\n",
       "      <td>...</td>\n",
       "      <td>...</td>\n",
       "      <td>...</td>\n",
       "      <td>...</td>\n",
       "      <td>...</td>\n",
       "      <td>...</td>\n",
       "      <td>...</td>\n",
       "      <td>...</td>\n",
       "    </tr>\n",
       "    <tr>\n",
       "      <th>545</th>\n",
       "      <td>NaN</td>\n",
       "      <td>999090000</td>\n",
       "      <td>NaN</td>\n",
       "      <td>5723.0</td>\n",
       "      <td>2768.0</td>\n",
       "      <td>0.483662</td>\n",
       "      <td>NaN</td>\n",
       "      <td>NaN</td>\n",
       "      <td>2092.514706</td>\n",
       "      <td>284.896303</td>\n",
       "    </tr>\n",
       "    <tr>\n",
       "      <th>42</th>\n",
       "      <td>Azpeitia sección 01005</td>\n",
       "      <td>1801005</td>\n",
       "      <td>17246.0</td>\n",
       "      <td>1794.0</td>\n",
       "      <td>1121.0</td>\n",
       "      <td>0.624861</td>\n",
       "      <td>2182.26789</td>\n",
       "      <td>-524.656881</td>\n",
       "      <td>445.514706</td>\n",
       "      <td>319.896303</td>\n",
       "    </tr>\n",
       "    <tr>\n",
       "      <th>539</th>\n",
       "      <td>Astigarraga sección 01002</td>\n",
       "      <td>90301002</td>\n",
       "      <td>14353.0</td>\n",
       "      <td>1195.0</td>\n",
       "      <td>724.0</td>\n",
       "      <td>0.605858</td>\n",
       "      <td>-710.73211</td>\n",
       "      <td>1688.343119</td>\n",
       "      <td>48.514706</td>\n",
       "      <td>375.896303</td>\n",
       "    </tr>\n",
       "    <tr>\n",
       "      <th>346</th>\n",
       "      <td>Donostia/San Sebastián sección 03033</td>\n",
       "      <td>6903033</td>\n",
       "      <td>15063.0</td>\n",
       "      <td>NaN</td>\n",
       "      <td>NaN</td>\n",
       "      <td>NaN</td>\n",
       "      <td>-0.73211</td>\n",
       "      <td>1477.343119</td>\n",
       "      <td>NaN</td>\n",
       "      <td>NaN</td>\n",
       "    </tr>\n",
       "    <tr>\n",
       "      <th>347</th>\n",
       "      <td>Donostia/San Sebastián sección 03034</td>\n",
       "      <td>6903034</td>\n",
       "      <td>15063.0</td>\n",
       "      <td>NaN</td>\n",
       "      <td>NaN</td>\n",
       "      <td>NaN</td>\n",
       "      <td>-0.73211</td>\n",
       "      <td>1373.343119</td>\n",
       "      <td>NaN</td>\n",
       "      <td>NaN</td>\n",
       "    </tr>\n",
       "  </tbody>\n",
       "</table>\n",
       "<p>546 rows × 10 columns</p>\n",
       "</div>"
      ],
      "text/plain": [
       "                           Nombre Sección    Sección    Total   censo  \\\n",
       "345  Donostia/San Sebastián sección 03032    6903032  17414.0  1379.0   \n",
       "344  Donostia/San Sebastián sección 03031    6903031  18005.0  1805.0   \n",
       "294              Errenteria sección 01029    6701029  11674.0  1393.0   \n",
       "292              Errenteria sección 01027    6701027  11498.0  1361.0   \n",
       "413  Donostia/San Sebastián sección 07002    6907002  12908.0  1358.0   \n",
       "..                                    ...        ...      ...     ...   \n",
       "545                                   NaN  999090000      NaN  5723.0   \n",
       "42                 Azpeitia sección 01005    1801005  17246.0  1794.0   \n",
       "539             Astigarraga sección 01002   90301002  14353.0  1195.0   \n",
       "346  Donostia/San Sebastián sección 03033    6903033  15063.0     NaN   \n",
       "347  Donostia/San Sebastián sección 03034    6903034  15063.0     NaN   \n",
       "\n",
       "     votos_total  Participación  desviación renta 16  cambio renta 16-19  \\\n",
       "345       1024.0       0.742567           2350.26789         2060.343119   \n",
       "344       1265.0       0.700831           2941.26789         1488.343119   \n",
       "294        911.0       0.653984          -3389.73211           41.343119   \n",
       "292        908.0       0.667157          -3565.73211         -204.656881   \n",
       "413        920.0       0.677467          -2155.73211           25.343119   \n",
       "..           ...            ...                  ...                 ...   \n",
       "545       2768.0       0.483662                  NaN                 NaN   \n",
       "42        1121.0       0.624861           2182.26789         -524.656881   \n",
       "539        724.0       0.605858           -710.73211         1688.343119   \n",
       "346          NaN            NaN             -0.73211         1477.343119   \n",
       "347          NaN            NaN             -0.73211         1373.343119   \n",
       "\n",
       "     desviación participación 16  cambio voto 16-19  \n",
       "345                   348.514706        -520.103697  \n",
       "344                   589.514706        -292.103697  \n",
       "294                   235.514706        -129.103697  \n",
       "292                   232.514706        -101.103697  \n",
       "413                   244.514706         -99.103697  \n",
       "..                           ...                ...  \n",
       "545                  2092.514706         284.896303  \n",
       "42                    445.514706         319.896303  \n",
       "539                    48.514706         375.896303  \n",
       "346                          NaN                NaN  \n",
       "347                          NaN                NaN  \n",
       "\n",
       "[546 rows x 10 columns]"
      ]
     },
     "execution_count": 73,
     "metadata": {},
     "output_type": "execute_result"
    }
   ],
   "source": [
    "df_16_sort_v"
   ]
  },
  {
   "cell_type": "code",
   "execution_count": 102,
   "metadata": {},
   "outputs": [],
   "source": [
    "df_16_sort_v.to_csv('..\\\\..\\\\raw data\\\\df_16_sort_v.csv', index=False)"
   ]
  },
  {
   "cell_type": "code",
   "execution_count": 82,
   "metadata": {},
   "outputs": [
    {
     "data": {
      "image/png": "[encoded data removed]",
      "text/plain": [
       "<Figure size 500x500 with 1 Axes>"
      ]
     },
     "metadata": {},
     "output_type": "display_data"
    }
   ],
   "source": [
    "sns.relplot(data=df_16, y=\"cambio voto 16-19\", x=\"cambio renta 16-19\").set(title='Correlación entre Variación de Participación y Renta, elecciones 2016-2019')\n",
    "plt.xlabel('Renta(€)');"
   ]
  },
  {
   "cell_type": "code",
   "execution_count": 97,
   "metadata": {},
   "outputs": [
    {
     "data": {
      "text/html": [
       "<div>\n",
       "<style scoped>\n",
       "    .dataframe tbody tr th:only-of-type {\n",
       "        vertical-align: middle;\n",
       "    }\n",
       "\n",
       "    .dataframe tbody tr th {\n",
       "        vertical-align: top;\n",
       "    }\n",
       "\n",
       "    .dataframe thead th {\n",
       "        text-align: right;\n",
       "    }\n",
       "</style>\n",
       "<table border=\"1\" class=\"dataframe\">\n",
       "  <thead>\n",
       "    <tr style=\"text-align: right;\">\n",
       "      <th></th>\n",
       "      <th>Nombre Sección</th>\n",
       "      <th>Sección</th>\n",
       "      <th>Total</th>\n",
       "      <th>censo</th>\n",
       "      <th>votos_total</th>\n",
       "      <th>Participación</th>\n",
       "      <th>desviación renta 16</th>\n",
       "      <th>cambio renta 16-19</th>\n",
       "      <th>desviación participación 16</th>\n",
       "      <th>cambio voto 16-19</th>\n",
       "    </tr>\n",
       "  </thead>\n",
       "  <tbody>\n",
       "  </tbody>\n",
       "</table>\n",
       "</div>"
      ],
      "text/plain": [
       "Empty DataFrame\n",
       "Columns: [Nombre Sección, Sección, Total, censo, votos_total, Participación, desviación renta 16, cambio renta 16-19, desviación participación 16, cambio voto 16-19]\n",
       "Index: []"
      ]
     },
     "execution_count": 97,
     "metadata": {},
     "output_type": "execute_result"
    }
   ],
   "source": [
    "df_16[df_16['cambio renta 16-19'].isna()]"
   ]
  },
  {
   "cell_type": "code",
   "execution_count": 98,
   "metadata": {},
   "outputs": [
    {
     "data": {
      "text/html": [
       "<div>\n",
       "<style scoped>\n",
       "    .dataframe tbody tr th:only-of-type {\n",
       "        vertical-align: middle;\n",
       "    }\n",
       "\n",
       "    .dataframe tbody tr th {\n",
       "        vertical-align: top;\n",
       "    }\n",
       "\n",
       "    .dataframe thead th {\n",
       "        text-align: right;\n",
       "    }\n",
       "</style>\n",
       "<table border=\"1\" class=\"dataframe\">\n",
       "  <thead>\n",
       "    <tr style=\"text-align: right;\">\n",
       "      <th></th>\n",
       "      <th>Nombre Sección</th>\n",
       "      <th>Sección</th>\n",
       "      <th>Total</th>\n",
       "      <th>censo</th>\n",
       "      <th>votos_total</th>\n",
       "      <th>Participación</th>\n",
       "      <th>desviación renta 16</th>\n",
       "      <th>cambio renta 16-19</th>\n",
       "      <th>desviación participación 16</th>\n",
       "      <th>cambio voto 16-19</th>\n",
       "    </tr>\n",
       "  </thead>\n",
       "  <tbody>\n",
       "    <tr>\n",
       "      <th>346</th>\n",
       "      <td>Donostia/San Sebastián sección 03033</td>\n",
       "      <td>6903033</td>\n",
       "      <td>15063.0</td>\n",
       "      <td>NaN</td>\n",
       "      <td>NaN</td>\n",
       "      <td>NaN</td>\n",
       "      <td>-0.73211</td>\n",
       "      <td>1477.343119</td>\n",
       "      <td>NaN</td>\n",
       "      <td>NaN</td>\n",
       "    </tr>\n",
       "  </tbody>\n",
       "</table>\n",
       "</div>"
      ],
      "text/plain": [
       "                           Nombre Sección  Sección    Total  censo  \\\n",
       "346  Donostia/San Sebastián sección 03033  6903033  15063.0    NaN   \n",
       "\n",
       "     votos_total  Participación  desviación renta 16  cambio renta 16-19  \\\n",
       "346          NaN            NaN             -0.73211         1477.343119   \n",
       "\n",
       "     desviación participación 16  cambio voto 16-19  \n",
       "346                          NaN                NaN  "
      ]
     },
     "execution_count": 98,
     "metadata": {},
     "output_type": "execute_result"
    }
   ],
   "source": [
    "df_16[df_16['cambio voto 16-19'].isna()]"
   ]
  },
  {
   "cell_type": "code",
   "execution_count": 92,
   "metadata": {},
   "outputs": [
    {
     "name": "stdout",
     "output_type": "stream",
     "text": [
      "<class 'pandas.core.frame.DataFrame'>\n",
      "Index: 544 entries, 0 to 544\n",
      "Data columns (total 8 columns):\n",
      " #   Column                       Non-Null Count  Dtype  \n",
      "---  ------                       --------------  -----  \n",
      " 0   Nombre Sección               544 non-null    object \n",
      " 1   Sección                      544 non-null    int64  \n",
      " 2   Total                        544 non-null    float64\n",
      " 3   censo                        544 non-null    float64\n",
      " 4   votos_total                  544 non-null    float64\n",
      " 5   Participación                544 non-null    float64\n",
      " 6   desviación renta 19          544 non-null    float64\n",
      " 7   desviación participación 19  544 non-null    float64\n",
      "dtypes: float64(6), int64(1), object(1)\n",
      "memory usage: 38.2+ KB\n"
     ]
    }
   ],
   "source": [
    "df_19.info()"
   ]
  },
  {
   "cell_type": "code",
   "execution_count": 99,
   "metadata": {},
   "outputs": [],
   "source": [
    "df_16 = df_16.drop([346],axis=0)"
   ]
  },
  {
   "cell_type": "code",
   "execution_count": 100,
   "metadata": {},
   "outputs": [
    {
     "data": {
      "image/png": "[encoded data removed]",
      "text/plain": [
       "<Figure size 500x500 with 1 Axes>"
      ]
     },
     "metadata": {},
     "output_type": "display_data"
    }
   ],
   "source": [
    "sns.lmplot(data=df_16, y=\"cambio voto 16-19\", x=\"cambio renta 16-19\").set(title='Factor de Correlación, elecciones 2016-2019')\n",
    "r, p = sp.stats.pearsonr(x=df_16[\"Total\"], y=df_16['Participación'])\n",
    "ax = plt.gca()\n",
    "plt.text(.08, .85, 'r={:.2f}'.format(r),fontsize='large',transform=ax.transAxes)\n",
    "plt.xlabel('Renta(€)');"
   ]
  },
  {
   "cell_type": "code",
   "execution_count": 34,
   "metadata": {},
   "outputs": [
    {
     "data": {
      "text/plain": [
       "Nombre Sección          object\n",
       "Sección                  int64\n",
       "Total                  float64\n",
       "censo                  float64\n",
       "votos_total            float64\n",
       "Participación          float64\n",
       "desviación renta 16    float64\n",
       "cambio renta 16-19     float64\n",
       "dtype: object"
      ]
     },
     "execution_count": 34,
     "metadata": {},
     "output_type": "execute_result"
    }
   ],
   "source": [
    "df_16_sort.dtypes"
   ]
  },
  {
   "cell_type": "code",
   "execution_count": 27,
   "metadata": {},
   "outputs": [
    {
     "name": "stdout",
     "output_type": "stream",
     "text": [
      "Nombre Sección         Donostia/San Sebastián sección 03002\n",
      "Sección                                             6903002\n",
      "Total                                               23048.0\n",
      "censo                                                 743.0\n",
      "votos_total                                           544.0\n",
      "Participación                                      0.732167\n",
      "desviación renta 19                             6641.611009\n",
      "Name: 316, dtype: object\n"
     ]
    }
   ],
   "source": [
    "print(df_19.iloc[316])"
   ]
  },
  {
   "cell_type": "code",
   "execution_count": 44,
   "metadata": {},
   "outputs": [
    {
     "ename": "AttributeError",
     "evalue": "This method only works with the ScalarFormatter",
     "output_type": "error",
     "traceback": [
      "\u001b[1;31m---------------------------------------------------------------------------\u001b[0m",
      "\u001b[1;31mAttributeError\u001b[0m                            Traceback (most recent call last)",
      "File \u001b[1;32mc:\\Users\\hugom\\AppData\\Local\\Programs\\Python\\Python311\\Lib\\site-packages\\matplotlib\\axes\\_base.py:3262\u001b[0m, in \u001b[0;36m_AxesBase.ticklabel_format\u001b[1;34m(self, axis, style, scilimits, useOffset, useLocale, useMathText)\u001b[0m\n\u001b[0;32m   3261\u001b[0m \u001b[39mif\u001b[39;00m is_sci_style \u001b[39mis\u001b[39;00m \u001b[39mnot\u001b[39;00m \u001b[39mNone\u001b[39;00m:\n\u001b[1;32m-> 3262\u001b[0m     axis\u001b[39m.\u001b[39;49mmajor\u001b[39m.\u001b[39;49mformatter\u001b[39m.\u001b[39;49mset_scientific(is_sci_style)\n\u001b[0;32m   3263\u001b[0m \u001b[39mif\u001b[39;00m scilimits \u001b[39mis\u001b[39;00m \u001b[39mnot\u001b[39;00m \u001b[39mNone\u001b[39;00m:\n",
      "\u001b[1;31mAttributeError\u001b[0m: 'StrCategoryFormatter' object has no attribute 'set_scientific'",
      "\nThe above exception was the direct cause of the following exception:\n",
      "\u001b[1;31mAttributeError\u001b[0m                            Traceback (most recent call last)",
      "\u001b[1;32mc:\\Users\\hugom\\OneDrive\\Documentos\\Personal\\Formación\\The Bridge\\TrabajoBcamp\\DataProjects\\Data-Science-Projects\\EDA_Voto_Renta\\src\\notebooks\\secondary.ipynb Cell 14\u001b[0m line \u001b[0;36m9\n\u001b[0;32m      <a href='vscode-notebook-cell:/c%3A/Users/hugom/OneDrive/Documentos/Personal/Formaci%C3%B3n/The%20Bridge/TrabajoBcamp/DataProjects/Data-Science-Projects/EDA_Voto_Renta/src/notebooks/secondary.ipynb#X15sZmlsZQ%3D%3D?line=6'>7</a>\u001b[0m plt\u001b[39m.\u001b[39mxlabel(\u001b[39m'\u001b[39m\u001b[39mSección Censal\u001b[39m\u001b[39m'\u001b[39m)\n\u001b[0;32m      <a href='vscode-notebook-cell:/c%3A/Users/hugom/OneDrive/Documentos/Personal/Formaci%C3%B3n/The%20Bridge/TrabajoBcamp/DataProjects/Data-Science-Projects/EDA_Voto_Renta/src/notebooks/secondary.ipynb#X15sZmlsZQ%3D%3D?line=7'>8</a>\u001b[0m plt\u001b[39m.\u001b[39mylabel(\u001b[39m'\u001b[39m\u001b[39mParticipación\u001b[39m\u001b[39m'\u001b[39m)\n\u001b[1;32m----> <a href='vscode-notebook-cell:/c%3A/Users/hugom/OneDrive/Documentos/Personal/Formaci%C3%B3n/The%20Bridge/TrabajoBcamp/DataProjects/Data-Science-Projects/EDA_Voto_Renta/src/notebooks/secondary.ipynb#X15sZmlsZQ%3D%3D?line=8'>9</a>\u001b[0m ax\u001b[39m.\u001b[39;49mticklabel_format(useOffset\u001b[39m=\u001b[39;49m\u001b[39mFalse\u001b[39;49;00m, style\u001b[39m=\u001b[39;49m\u001b[39m'\u001b[39;49m\u001b[39mplain\u001b[39;49m\u001b[39m'\u001b[39;49m)\n\u001b[0;32m     <a href='vscode-notebook-cell:/c%3A/Users/hugom/OneDrive/Documentos/Personal/Formaci%C3%B3n/The%20Bridge/TrabajoBcamp/DataProjects/Data-Science-Projects/EDA_Voto_Renta/src/notebooks/secondary.ipynb#X15sZmlsZQ%3D%3D?line=9'>10</a>\u001b[0m plt\u001b[39m.\u001b[39mshow()\n",
      "File \u001b[1;32mc:\\Users\\hugom\\AppData\\Local\\Programs\\Python\\Python311\\Lib\\site-packages\\matplotlib\\axes\\_base.py:3272\u001b[0m, in \u001b[0;36m_AxesBase.ticklabel_format\u001b[1;34m(self, axis, style, scilimits, useOffset, useLocale, useMathText)\u001b[0m\n\u001b[0;32m   3270\u001b[0m             axis\u001b[39m.\u001b[39mmajor\u001b[39m.\u001b[39mformatter\u001b[39m.\u001b[39mset_useMathText(useMathText)\n\u001b[0;32m   3271\u001b[0m \u001b[39mexcept\u001b[39;00m \u001b[39mAttributeError\u001b[39;00m \u001b[39mas\u001b[39;00m err:\n\u001b[1;32m-> 3272\u001b[0m     \u001b[39mraise\u001b[39;00m \u001b[39mAttributeError\u001b[39;00m(\n\u001b[0;32m   3273\u001b[0m         \u001b[39m\"\u001b[39m\u001b[39mThis method only works with the ScalarFormatter\u001b[39m\u001b[39m\"\u001b[39m) \u001b[39mfrom\u001b[39;00m \u001b[39merr\u001b[39;00m\n",
      "\u001b[1;31mAttributeError\u001b[0m: This method only works with the ScalarFormatter"
     ]
    },
    {
     "data": {
      "image/png": "[encoded data removed]",
      "text/plain": [
       "<Figure size 640x480 with 1 Axes>"
      ]
     },
     "metadata": {},
     "output_type": "display_data"
    }
   ],
   "source": [
    "value_to_plot = df_19[df_19['Sección'] == 6903002]['Participación']\n",
    "value_to_plot2 = df_16[df_16['Sección'] == 6903002]['Participación']\n",
    "\n",
    "fig, ax = plt.subplots()\n",
    "plt.scatter('6903002', value_to_plot, color='g', marker='o')\n",
    "plt.scatter('6903002', value_to_plot2, color='r', marker='o')\n",
    "plt.xlabel('Sección Censal')\n",
    "plt.ylabel('Participación')\n",
    "ax.ticklabel_format(useOffset=False, style='plain')\n",
    "plt.show()"
   ]
  },
  {
   "cell_type": "code",
   "execution_count": 58,
   "metadata": {},
   "outputs": [
    {
     "data": {
      "image/png": "[encoded data removed]",
      "text/plain": [
       "<Figure size 750x350 with 1 Axes>"
      ]
     },
     "metadata": {},
     "output_type": "display_data"
    }
   ],
   "source": [
    "value_to_plot = df_19[df_19['Sección'] == 6902004]['Participación']\n",
    "value_to_plot2 = df_16[df_16['Sección'] == 6902004]['Participación']\n",
    "value_to_plot11 = df_19[df_19['Sección'] == 6903002]['Participación']\n",
    "value_to_plot12 = df_16[df_16['Sección'] == 6903002]['Participación']\n",
    "plt.rcParams[\"figure.figsize\"] = [7.50, 3.50]\n",
    "plt.rcParams[\"figure.autolayout\"] = True\n",
    "fig, ax = plt.subplots()\n",
    "plt.scatter('6903002', value_to_plot, color='g', marker='o')\n",
    "plt.scatter('6903002', value_to_plot2, color='r', marker='o')\n",
    "\n",
    "plt.scatter('6903002', value_to_plot11, color='g', marker='o')\n",
    "plt.scatter('6903002', value_to_plot12, color='r', marker='o')\n",
    "plt.xlabel('Sección Censal')\n",
    "plt.ylabel('Participación')\n",
    "fig.autofmt_xdate()\n",
    "plt.show()"
   ]
  },
  {
   "cell_type": "code",
   "execution_count": 35,
   "metadata": {},
   "outputs": [
    {
     "data": {
      "text/html": [
       "<div>\n",
       "<style scoped>\n",
       "    .dataframe tbody tr th:only-of-type {\n",
       "        vertical-align: middle;\n",
       "    }\n",
       "\n",
       "    .dataframe tbody tr th {\n",
       "        vertical-align: top;\n",
       "    }\n",
       "\n",
       "    .dataframe thead th {\n",
       "        text-align: right;\n",
       "    }\n",
       "</style>\n",
       "<table border=\"1\" class=\"dataframe\">\n",
       "  <thead>\n",
       "    <tr style=\"text-align: right;\">\n",
       "      <th></th>\n",
       "      <th>Nombre Sección</th>\n",
       "      <th>Sección</th>\n",
       "      <th>Total</th>\n",
       "      <th>censo</th>\n",
       "      <th>votos_total</th>\n",
       "      <th>Participación</th>\n",
       "      <th>desviación renta 16</th>\n",
       "      <th>cambio renta 16-19</th>\n",
       "    </tr>\n",
       "  </thead>\n",
       "  <tbody>\n",
       "    <tr>\n",
       "      <th>316</th>\n",
       "      <td>Donostia/San Sebastián sección 03002</td>\n",
       "      <td>6903002</td>\n",
       "      <td>29364.0</td>\n",
       "      <td>746.0</td>\n",
       "      <td>531.0</td>\n",
       "      <td>0.711796</td>\n",
       "      <td>14300.26789</td>\n",
       "      <td>-7658.656881</td>\n",
       "    </tr>\n",
       "  </tbody>\n",
       "</table>\n",
       "</div>"
      ],
      "text/plain": [
       "                           Nombre Sección  Sección    Total  censo  \\\n",
       "316  Donostia/San Sebastián sección 03002  6903002  29364.0  746.0   \n",
       "\n",
       "     votos_total  Participación  desviación renta 16  cambio renta 16-19  \n",
       "316        531.0       0.711796          14300.26789        -7658.656881  "
      ]
     },
     "execution_count": 35,
     "metadata": {},
     "output_type": "execute_result"
    }
   ],
   "source": [
    "df_16[df_16['Sección'] == 6903002]"
   ]
  }
 ],
 "metadata": {
  "kernelspec": {
   "display_name": "Python 3",
   "language": "python",
   "name": "python3"
  },
  "language_info": {
   "codemirror_mode": {
    "name": "ipython",
    "version": 3
   },
   "file_extension": ".py",
   "mimetype": "text/x-python",
   "name": "python",
   "nbconvert_exporter": "python",
   "pygments_lexer": "ipython3",
   "version": "3.11.5"
  }
 },
 "nbformat": 4,
 "nbformat_minor": 2
}
