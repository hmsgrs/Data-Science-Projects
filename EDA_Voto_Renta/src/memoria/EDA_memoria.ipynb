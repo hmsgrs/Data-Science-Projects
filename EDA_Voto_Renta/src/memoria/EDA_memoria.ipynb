{
 "cells": [
  {
   "cell_type": "markdown",
   "metadata": {},
   "source": [
    "# Memoria EDA \"Voto por renta, el caso de Gipuzkoa 2016-2019\""
   ]
  },
  {
   "cell_type": "markdown",
   "metadata": {},
   "source": [
    "El objetivo de este proyecto de EDA *(Exploratory Data Analisys)* es analizar los datos de participación y renta al nivel censal más pequeño posible (que en españa es la mesa electoral), y analizar la correlación (o su ausencia) entre la renta media y la participación en el proceso electoral.\n",
    "\n",
    "El análisis partirá de una hipótesis primaria, \"a mayor renta, mayor participación electoral\", que será verificada con los datos de los procesos electorales de las elecciones al congreso de los diputados de 2016 y 2019, individualmente.\n",
    "\n",
    "Tras la confirmación o no de la hipótesis, se analizará el comportamiento de aquellas secciones censales que, por motivos de cambio macroeconómico, varían significativamente su nivel de renta, buscando si esto conlleva un cambio proporcional en la participación."
   ]
  },
  {
   "cell_type": "markdown",
   "metadata": {},
   "source": [
    "## Obtención de datos\n",
    "\n",
    "El EDA usará dos fuentes primarias de datos on-line, para los dos parámetros principales que necesita cruzar:\n",
    "\n",
    "+ Renta: [Instituto Nacional de Estadística](https://www.ine.es/jaxiT3/Tabla.htm?t=31007&L=0)\n",
    "    \n",
    "+ Participación: [Ministerio del Interior](https://infoelectoral.interior.gob.es/opencms/es/elecciones-celebradas/area-de-descargas/)"
   ]
  },
  {
   "cell_type": "markdown",
   "metadata": {},
   "source": []
  }
 ],
 "metadata": {
  "kernelspec": {
   "display_name": "Python 3",
   "language": "python",
   "name": "python3"
  },
  "language_info": {
   "codemirror_mode": {
    "name": "ipython",
    "version": 3
   },
   "file_extension": ".py",
   "mimetype": "text/x-python",
   "name": "python",
   "nbconvert_exporter": "python",
   "pygments_lexer": "ipython3",
   "version": "3.11.5"
  }
 },
 "nbformat": 4,
 "nbformat_minor": 2
}
